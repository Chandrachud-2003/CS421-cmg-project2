{
 "cells": [
  {
   "attachments": {},
   "cell_type": "markdown",
   "metadata": {},
   "source": [
    "# Project Task 1\n",
    "## Downloading Python Repositories\n",
    "\n",
    "Extra Credit - Downloading the following python repositories in an automated way using Python\n",
    "\n",
    "matplotlib: A plotting library\n",
    "scikit-learn: A machine learning library\n",
    "numpy: A scientific computing library\n",
    "pandas: A columnar data analysis library\n",
    "django: A web framework\n",
    "scipy: A scientific computing library\n",
    "flask: A micro web framework\n",
    "requests: A HTTP requests library\n",
    "ansible: An IT automation platform\n",
    "sentry: A crash reporting utility\n",
    "scrapy: A web scraper\n",
    "Mailpile: An email client\n",
    "sshuttle: A proxy server\n",
    "salt: An IT automation platform\n",
    "NewsBlur: A newsreader\n",
    "beets: A music library manager"
   ]
  },
  {
   "cell_type": "code",
   "execution_count": 1,
   "metadata": {},
   "outputs": [
    {
     "name": "stderr",
     "output_type": "stream",
     "text": [
      "Cloning into 'Python Repositories/matplotlib'...\n",
      "Updating files: 100% (4471/4471), done.\n",
      "Cloning into 'Python Repositories/scikit-learn'...\n",
      "Cloning into 'Python Repositories/numpy'...\n",
      "Updating files: 100% (2070/2070), done.\n",
      "Cloning into 'Python Repositories/django'...\n",
      "Updating files: 100% (6654/6654), done.\n",
      "Cloning into 'Python Repositories/scipy'...\n",
      "Updating files: 100% (3225/3225), done.\n",
      "Cloning into 'Python Repositories/ansible'...\n",
      "Updating files: 100% (5581/5581), done.\n",
      "Cloning into 'Python Repositories/scrapy'...\n",
      "Cloning into 'Python Repositories/Mailpile'...\n",
      "Cloning into 'Python Repositories/sshuttle'...\n",
      "Cloning into 'Python Repositories/pandas'...\n",
      "Updating files: 100% (2503/2503), done.\n",
      "Cloning into 'Python Repositories/flask'...\n",
      "Cloning into 'Python Repositories/requests'...\n",
      "Cloning into 'Python Repositories/sentry'...\n",
      "Updating files: 100% (11028/11028), done.\n",
      "Cloning into 'Python Repositories/salt'...\n",
      "Updating files: 100% (6739/6739), done.\n",
      "Cloning into 'Python Repositories/NewsBlur'...\n",
      "Updating files: 100% (6157/6157), done.\n",
      "Cloning into 'Python Repositories/beets'...\n"
     ]
    }
   ],
   "source": [
    "import os\n",
    "\n",
    "# Create the 'Python Repositories' directory if it doesn't already exist\n",
    "if not os.path.exists('Python Repositories'):\n",
    "    os.makedirs('Python Repositories')\n",
    "\n",
    "import subprocess\n",
    "\n",
    "# List of regular link repositories to download\n",
    "repos = ['matplotlib', 'scikit-learn', 'numpy', 'django', 'scipy', 'ansible', 'scrapy', 'Mailpile', 'sshuttle']\n",
    "\n",
    "# Clone each repository into the 'Python Repositories' directory\n",
    "for repo in repos:\n",
    "    subprocess.run(['git', 'clone', f'https://github.com/{repo}/{repo}.git', f'Python Repositories/{repo}'])\n",
    "\n",
    "# List of non regular link repositories to download\n",
    "additional_repos = ['https://github.com/pandas-dev/pandas', 'https://github.com/pallets/flask', 'https://github.com/psf/requests', 'https://github.com/getsentry/sentry', 'https://github.com/saltstack/salt', 'https://github.com/samuelclay/NewsBlur', 'https://github.com/beetbox/beets']\n",
    "\n",
    "# Clone each repository into the 'Python Repositories' directory\n",
    "for repo in additional_repos:\n",
    "    subprocess.run(['git', 'clone', repo, f'Python Repositories/{repo.split(\"/\")[-1]}'])\n"
   ]
  }
 ],
 "metadata": {
  "kernelspec": {
   "display_name": "Python 3",
   "language": "python",
   "name": "python3"
  },
  "language_info": {
   "codemirror_mode": {
    "name": "ipython",
    "version": 3
   },
   "file_extension": ".py",
   "mimetype": "text/x-python",
   "name": "python",
   "nbconvert_exporter": "python",
   "pygments_lexer": "ipython3",
   "version": "3.10.4"
  },
  "orig_nbformat": 4,
  "vscode": {
   "interpreter": {
    "hash": "f1439614bbab0b39d70f859a50b1db7ba0fe845a40ec39d50f3ebffda1a60010"
   }
  }
 },
 "nbformat": 4,
 "nbformat_minor": 2
}
