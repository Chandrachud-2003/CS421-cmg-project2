{
 "cells": [
  {
   "cell_type": "code",
   "execution_count": null,
   "metadata": {},
   "outputs": [],
   "source": []
  }
 ],
 "metadata": {
  "kernelspec": {
   "display_name": "Python 3",
   "language": "python",
   "name": "python3"
  },
  "language_info": {
   "name": "python",
   "version": "3.10.4"
  },
  "vscode": {
   "interpreter": {
    "hash": "f1439614bbab0b39d70f859a50b1db7ba0fe845a40ec39d50f3ebffda1a60010"
   }
  }
 },
 "nbformat": 4,
 "nbformat_minor": 5
}
