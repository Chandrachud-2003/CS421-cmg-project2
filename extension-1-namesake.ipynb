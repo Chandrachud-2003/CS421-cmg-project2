{
 "cells": [
  {
   "attachments": {},
   "cell_type": "markdown",
   "metadata": {},
   "source": [
    "# Extension 1 - Namesake\n",
    "\n",
    "In this extension I integrated the current model into Namesake, and compare the performance of the current model to the existing way that Namesake checks for similarity.  \n",
    "\n",
    "Note: Namesake relies on an old version of Python2Vec and Wordnet, so it should be easy to outperform its results.\n"
   ]
  },
  {
   "cell_type": "code",
   "execution_count": 1,
   "metadata": {},
   "outputs": [
    {
     "name": "stdout",
     "output_type": "stream",
     "text": [
      "Requirement already satisfied: pip in /Library/Frameworks/Python.framework/Versions/3.10/lib/python3.10/site-packages (23.0.1)\n",
      "Note: you may need to restart the kernel to use updated packages.\n",
      "Collecting atomicwrites==1.4.1\n",
      "  Using cached atomicwrites-1.4.1-py2.py3-none-any.whl\n",
      "Collecting attrs==21.4.0\n",
      "  Using cached attrs-21.4.0-py2.py3-none-any.whl (60 kB)\n",
      "Requirement already satisfied: click==8.1.3 in /Library/Frameworks/Python.framework/Versions/3.10/lib/python3.10/site-packages (from -r namesake/requirements.txt (line 3)) (8.1.3)\n",
      "Collecting colorama==0.4.5\n",
      "  Using cached colorama-0.4.5-py2.py3-none-any.whl (16 kB)\n",
      "Requirement already satisfied: eng-to-ipa==0.0.2 in /Library/Frameworks/Python.framework/Versions/3.10/lib/python3.10/site-packages (from -r namesake/requirements.txt (line 5)) (0.0.2)\n",
      "Requirement already satisfied: fuzzywuzzy==0.18.0 in /Library/Frameworks/Python.framework/Versions/3.10/lib/python3.10/site-packages (from -r namesake/requirements.txt (line 6)) (0.18.0)\n",
      "Collecting humanize==4.2.3\n",
      "  Using cached humanize-4.2.3-py3-none-any.whl (102 kB)\n",
      "Collecting importlib-metadata==4.12.0\n",
      "  Using cached importlib_metadata-4.12.0-py3-none-any.whl (21 kB)\n",
      "Requirement already satisfied: iniconfig==1.1.1 in /Library/Frameworks/Python.framework/Versions/3.10/lib/python3.10/site-packages (from -r namesake/requirements.txt (line 9)) (1.1.1)\n",
      "Collecting joblib==1.1.0\n",
      "  Using cached joblib-1.1.0-py2.py3-none-any.whl (306 kB)\n",
      "Collecting nltk==3.7\n",
      "  Using cached nltk-3.7-py3-none-any.whl (1.5 MB)\n",
      "Collecting numpy==1.21.6\n",
      "  Using cached numpy-1.21.6-cp310-cp310-macosx_11_0_arm64.whl (12.4 MB)\n",
      "Collecting packaging==21.3\n",
      "  Using cached packaging-21.3-py3-none-any.whl (40 kB)\n",
      "Collecting pandas==1.3.5\n",
      "  Using cached pandas-1.3.5-cp310-cp310-macosx_11_0_arm64.whl (10.3 MB)\n",
      "Requirement already satisfied: plac==1.3.5 in /Library/Frameworks/Python.framework/Versions/3.10/lib/python3.10/site-packages (from -r namesake/requirements.txt (line 15)) (1.3.5)\n",
      "Requirement already satisfied: pluggy==1.0.0 in /Library/Frameworks/Python.framework/Versions/3.10/lib/python3.10/site-packages (from -r namesake/requirements.txt (line 16)) (1.0.0)\n",
      "Requirement already satisfied: py==1.11.0 in /Library/Frameworks/Python.framework/Versions/3.10/lib/python3.10/site-packages (from -r namesake/requirements.txt (line 17)) (1.11.0)\n",
      "Requirement already satisfied: pyparsing==3.0.9 in /Library/Frameworks/Python.framework/Versions/3.10/lib/python3.10/site-packages (from -r namesake/requirements.txt (line 18)) (3.0.9)\n",
      "Collecting pytest==7.1.2\n",
      "  Using cached pytest-7.1.2-py3-none-any.whl (297 kB)\n",
      "Requirement already satisfied: python-dateutil==2.8.2 in /Users/chandrachudgowda/Library/Python/3.10/lib/python/site-packages (from -r namesake/requirements.txt (line 20)) (2.8.2)\n",
      "Requirement already satisfied: pytz==2022.1 in /Library/Frameworks/Python.framework/Versions/3.10/lib/python3.10/site-packages (from -r namesake/requirements.txt (line 21)) (2022.1)\n",
      "Requirement already satisfied: regex==2022.7.25 in /Library/Frameworks/Python.framework/Versions/3.10/lib/python3.10/site-packages (from -r namesake/requirements.txt (line 22)) (2022.7.25)\n",
      "Collecting scikit-learn==1.0.2\n",
      "  Using cached scikit_learn-1.0.2-cp310-cp310-macosx_12_0_arm64.whl (6.9 MB)\n",
      "Collecting scipy==1.7.3\n",
      "  Using cached scipy-1.7.3-1-cp310-cp310-macosx_12_0_arm64.whl (27.0 MB)\n",
      "Requirement already satisfied: six==1.16.0 in /Users/chandrachudgowda/Library/Python/3.10/lib/python/site-packages (from -r namesake/requirements.txt (line 25)) (1.16.0)\n",
      "Collecting sklearn==0.0\n",
      "  Using cached sklearn-0.0-py2.py3-none-any.whl\n",
      "Requirement already satisfied: spiral==1.1.0 in /Library/Frameworks/Python.framework/Versions/3.10/lib/python3.10/site-packages (from -r namesake/requirements.txt (line 27)) (1.1.0)\n",
      "Requirement already satisfied: termcolor==1.1.0 in /Library/Frameworks/Python.framework/Versions/3.10/lib/python3.10/site-packages (from -r namesake/requirements.txt (line 28)) (1.1.0)\n",
      "Requirement already satisfied: threadpoolctl==3.1.0 in /Library/Frameworks/Python.framework/Versions/3.10/lib/python3.10/site-packages (from -r namesake/requirements.txt (line 29)) (3.1.0)\n",
      "Requirement already satisfied: tomli==2.0.1 in /Library/Frameworks/Python.framework/Versions/3.10/lib/python3.10/site-packages (from -r namesake/requirements.txt (line 30)) (2.0.1)\n",
      "Requirement already satisfied: tqdm==4.64.0 in /Library/Frameworks/Python.framework/Versions/3.10/lib/python3.10/site-packages (from -r namesake/requirements.txt (line 31)) (4.64.0)\n",
      "Requirement already satisfied: typing-extensions==4.3.0 in /Library/Frameworks/Python.framework/Versions/3.10/lib/python3.10/site-packages (from -r namesake/requirements.txt (line 32)) (4.3.0)\n",
      "Requirement already satisfied: zipp==3.8.1 in /Library/Frameworks/Python.framework/Versions/3.10/lib/python3.10/site-packages (from -r namesake/requirements.txt (line 33)) (3.8.1)\n",
      "Requirement already satisfied: setuptools>=38.5.1 in /Library/Frameworks/Python.framework/Versions/3.10/lib/python3.10/site-packages (from spiral==1.1.0->-r namesake/requirements.txt (line 27)) (67.3.3)\n",
      "Installing collected packages: packaging, numpy, joblib, importlib-metadata, humanize, colorama, attrs, atomicwrites, scipy, pytest, pandas, nltk, scikit-learn, sklearn\n",
      "  Attempting uninstall: packaging\n",
      "    Found existing installation: packaging 23.0\n",
      "    Uninstalling packaging-23.0:\n",
      "      Successfully uninstalled packaging-23.0\n",
      "  Rolling back uninstall of packaging\n",
      "  Moving to /Users/chandrachudgowda/Library/Python/3.10/lib/python/site-packages/packaging-23.0.dist-info/\n",
      "   from /Users/chandrachudgowda/Library/Python/3.10/lib/python/site-packages/~ackaging-23.0.dist-info\n",
      "  Moving to /Users/chandrachudgowda/Library/Python/3.10/lib/python/site-packages/packaging/\n",
      "   from /Users/chandrachudgowda/Library/Python/3.10/lib/python/site-packages/~ackaging\n",
      "\u001b[31mERROR: Could not install packages due to an OSError: [Errno 13] Permission denied: '/Library/Frameworks/Python.framework/Versions/3.10/lib/python3.10/site-packages/packaging/__about__.py'\n",
      "Consider using the `--user` option or check the permissions.\n",
      "\u001b[0m\u001b[31m\n",
      "\u001b[0mNote: you may need to restart the kernel to use updated packages.\n"
     ]
    }
   ],
   "source": [
    "# Installing the requirements if not already installed\n",
    "\n",
    "%pip install --upgrade pip\n",
    "%pip install -r namesake/requirements.txt \n"
   ]
  },
  {
   "cell_type": "code",
   "execution_count": 2,
   "metadata": {},
   "outputs": [
    {
     "name": "stdout",
     "output_type": "stream",
     "text": [
      "Requirement already satisfied: setuptools in /Library/Frameworks/Python.framework/Versions/3.10/lib/python3.10/site-packages (67.3.3)\n",
      "Requirement already satisfied: wheel in /Library/Frameworks/Python.framework/Versions/3.10/lib/python3.10/site-packages (0.38.4)\n",
      "Note: you may need to restart the kernel to use updated packages.\n",
      "Collecting git+https://github.com/casics/spiral.git\n",
      "  Cloning https://github.com/casics/spiral.git to /private/var/folders/10/n4knghmx6ks_bqbcwt45r8k00000gn/T/pip-req-build-4dqg4gxn\n",
      "  Running command git clone --filter=blob:none --quiet https://github.com/casics/spiral.git /private/var/folders/10/n4knghmx6ks_bqbcwt45r8k00000gn/T/pip-req-build-4dqg4gxn\n",
      "  Resolved https://github.com/casics/spiral.git to commit 0e75418cda7635f151fedff035b7b75799ccbe43\n",
      "  Preparing metadata (setup.py) ... \u001b[?25ldone\n",
      "\u001b[?25hRequirement already satisfied: nltk>=3.2.1 in /Library/Frameworks/Python.framework/Versions/3.10/lib/python3.10/site-packages (from spiral==1.1.0) (3.8.1)\n",
      "Requirement already satisfied: humanize>=0.5.1 in /Library/Frameworks/Python.framework/Versions/3.10/lib/python3.10/site-packages (from spiral==1.1.0) (4.6.0)\n",
      "Requirement already satisfied: termcolor>=1.1.0 in /Library/Frameworks/Python.framework/Versions/3.10/lib/python3.10/site-packages (from spiral==1.1.0) (1.1.0)\n",
      "Requirement already satisfied: setuptools>=38.5.1 in /Library/Frameworks/Python.framework/Versions/3.10/lib/python3.10/site-packages (from spiral==1.1.0) (67.3.3)\n",
      "Requirement already satisfied: six>=1.11.0 in /Users/chandrachudgowda/Library/Python/3.10/lib/python/site-packages (from spiral==1.1.0) (1.16.0)\n",
      "Requirement already satisfied: plac>=0.9.6 in /Library/Frameworks/Python.framework/Versions/3.10/lib/python3.10/site-packages (from spiral==1.1.0) (1.3.5)\n",
      "Requirement already satisfied: pytest>=3.0.5 in /Library/Frameworks/Python.framework/Versions/3.10/lib/python3.10/site-packages (from spiral==1.1.0) (7.2.1)\n",
      "Requirement already satisfied: tqdm in /Library/Frameworks/Python.framework/Versions/3.10/lib/python3.10/site-packages (from nltk>=3.2.1->spiral==1.1.0) (4.64.0)\n",
      "Requirement already satisfied: regex>=2021.8.3 in /Library/Frameworks/Python.framework/Versions/3.10/lib/python3.10/site-packages (from nltk>=3.2.1->spiral==1.1.0) (2022.7.25)\n",
      "Requirement already satisfied: click in /Library/Frameworks/Python.framework/Versions/3.10/lib/python3.10/site-packages (from nltk>=3.2.1->spiral==1.1.0) (8.1.3)\n",
      "Requirement already satisfied: joblib in /Library/Frameworks/Python.framework/Versions/3.10/lib/python3.10/site-packages (from nltk>=3.2.1->spiral==1.1.0) (1.2.0)\n",
      "Requirement already satisfied: pluggy<2.0,>=0.12 in /Library/Frameworks/Python.framework/Versions/3.10/lib/python3.10/site-packages (from pytest>=3.0.5->spiral==1.1.0) (1.0.0)\n",
      "Requirement already satisfied: attrs>=19.2.0 in /Library/Frameworks/Python.framework/Versions/3.10/lib/python3.10/site-packages (from pytest>=3.0.5->spiral==1.1.0) (22.2.0)\n",
      "Requirement already satisfied: tomli>=1.0.0 in /Library/Frameworks/Python.framework/Versions/3.10/lib/python3.10/site-packages (from pytest>=3.0.5->spiral==1.1.0) (2.0.1)\n",
      "Requirement already satisfied: exceptiongroup>=1.0.0rc8 in /Library/Frameworks/Python.framework/Versions/3.10/lib/python3.10/site-packages (from pytest>=3.0.5->spiral==1.1.0) (1.1.0)\n",
      "Requirement already satisfied: packaging in /Users/chandrachudgowda/Library/Python/3.10/lib/python/site-packages (from pytest>=3.0.5->spiral==1.1.0) (23.0)\n",
      "Requirement already satisfied: iniconfig in /Library/Frameworks/Python.framework/Versions/3.10/lib/python3.10/site-packages (from pytest>=3.0.5->spiral==1.1.0) (1.1.1)\n",
      "Note: you may need to restart the kernel to use updated packages.\n"
     ]
    }
   ],
   "source": [
    "# To run Namesake on the file test1.py\n",
    "%pip install --upgrade setuptools wheel\n",
    "# Installing spiral == 1.1.0\n",
    "%pip install git+https://github.com/casics/spiral.git"
   ]
  },
  {
   "cell_type": "code",
   "execution_count": 3,
   "metadata": {},
   "outputs": [
    {
     "name": "stdout",
     "output_type": "stream",
     "text": [
      "Traceback (most recent call last):\n",
      "  File \"/Library/Frameworks/Python.framework/Versions/3.10/lib/python3.10/site-packages/spiral/simple_splitters.py\", line 67, in <module>\n",
      "    from .utils import flatten\n",
      "  File \"/Library/Frameworks/Python.framework/Versions/3.10/lib/python3.10/site-packages/spiral/utils.py\", line 11, in <module>\n",
      "    collections.Iterable = collections.abc.Iterable\n",
      "AttributeError: module 'collections' has no attribute 'abc'\n",
      "\n",
      "During handling of the above exception, another exception occurred:\n",
      "\n",
      "Traceback (most recent call last):\n",
      "  File \"/Users/chandrachudgowda/Library/Mobile Documents/com~apple~CloudDocs/Colby/Spring 2023/CS421/Projects/Project 2/CS421-cmg-project2/namesake/namesake.py\", line 15, in <module>\n",
      "    from spiral import ronin\n",
      "  File \"/Library/Frameworks/Python.framework/Versions/3.10/lib/python3.10/site-packages/spiral/__init__.py\", line 41, in <module>\n",
      "    from .simple_splitters import delimiter_split, digit_split, pure_camelcase_split\n",
      "  File \"/Library/Frameworks/Python.framework/Versions/3.10/lib/python3.10/site-packages/spiral/simple_splitters.py\", line 69, in <module>\n",
      "    from constants import *\n",
      "ModuleNotFoundError: No module named 'constants'\n"
     ]
    }
   ],
   "source": [
    "import ssl\n",
    "ssl._create_default_https_context = ssl._create_unverified_context\n",
    "\n",
    "# Running the sample code\n",
    "!python3.10 namesake/namesake.py namesake/test1.py"
   ]
  }
 ],
 "metadata": {
  "kernelspec": {
   "display_name": "Python 3",
   "language": "python",
   "name": "python3"
  },
  "language_info": {
   "codemirror_mode": {
    "name": "ipython",
    "version": 3
   },
   "file_extension": ".py",
   "mimetype": "text/x-python",
   "name": "python",
   "nbconvert_exporter": "python",
   "pygments_lexer": "ipython3",
   "version": "3.10.8"
  },
  "orig_nbformat": 4,
  "vscode": {
   "interpreter": {
    "hash": "aee8b7b246df8f9039afb4144a1f6fd8d2ca17a180786b69acc140d282b71a49"
   }
  }
 },
 "nbformat": 4,
 "nbformat_minor": 2
}
