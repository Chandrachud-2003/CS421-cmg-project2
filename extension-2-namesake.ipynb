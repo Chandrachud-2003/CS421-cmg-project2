{
 "cells": [
  {
   "attachments": {},
   "cell_type": "markdown",
   "metadata": {},
   "source": [
    "# Extension 1 - Namesake\n",
    "\n",
    "In this extension I integrated the current model into Namesake, and compare the performance of the current model to the existing way that Namesake checks for similarity.  \n",
    "\n",
    "Note: Namesake relies on an old version of Python2Vec and Wordnet, so it should be easy to outperform its results.\n"
   ]
  },
  {
   "cell_type": "code",
   "execution_count": 1,
   "metadata": {},
   "outputs": [
    {
     "name": "stdout",
     "output_type": "stream",
     "text": [
      "Requirement already satisfied: pip in /Library/Frameworks/Python.framework/Versions/3.10/lib/python3.10/site-packages (23.0.1)\n",
      "Note: you may need to restart the kernel to use updated packages.\n",
      "Collecting atomicwrites==1.4.1\n",
      "  Using cached atomicwrites-1.4.1-py2.py3-none-any.whl\n",
      "Collecting attrs==21.4.0\n",
      "  Using cached attrs-21.4.0-py2.py3-none-any.whl (60 kB)\n",
      "Requirement already satisfied: click==8.1.3 in /Library/Frameworks/Python.framework/Versions/3.10/lib/python3.10/site-packages (from -r namesake/requirements.txt (line 3)) (8.1.3)\n",
      "Collecting colorama==0.4.5\n",
      "  Using cached colorama-0.4.5-py2.py3-none-any.whl (16 kB)\n",
      "Requirement already satisfied: eng-to-ipa==0.0.2 in /Library/Frameworks/Python.framework/Versions/3.10/lib/python3.10/site-packages (from -r namesake/requirements.txt (line 5)) (0.0.2)\n",
      "Requirement already satisfied: fuzzywuzzy==0.18.0 in /Library/Frameworks/Python.framework/Versions/3.10/lib/python3.10/site-packages (from -r namesake/requirements.txt (line 6)) (0.18.0)\n",
      "Collecting humanize==4.2.3\n",
      "  Using cached humanize-4.2.3-py3-none-any.whl (102 kB)\n",
      "Collecting importlib-metadata==4.12.0\n",
      "  Using cached importlib_metadata-4.12.0-py3-none-any.whl (21 kB)\n",
      "Requirement already satisfied: iniconfig==1.1.1 in /Library/Frameworks/Python.framework/Versions/3.10/lib/python3.10/site-packages (from -r namesake/requirements.txt (line 9)) (1.1.1)\n",
      "Collecting joblib==1.1.0\n",
      "  Using cached joblib-1.1.0-py2.py3-none-any.whl (306 kB)\n",
      "Collecting nltk==3.7\n",
      "  Using cached nltk-3.7-py3-none-any.whl (1.5 MB)\n",
      "Collecting numpy==1.21.6\n",
      "  Using cached numpy-1.21.6-cp310-cp310-macosx_11_0_arm64.whl (12.4 MB)\n",
      "Collecting packaging==21.3\n",
      "  Using cached packaging-21.3-py3-none-any.whl (40 kB)\n",
      "Collecting pandas==1.3.5\n",
      "  Using cached pandas-1.3.5-cp310-cp310-macosx_11_0_arm64.whl (10.3 MB)\n",
      "Requirement already satisfied: plac==1.3.5 in /Library/Frameworks/Python.framework/Versions/3.10/lib/python3.10/site-packages (from -r namesake/requirements.txt (line 15)) (1.3.5)\n",
      "Requirement already satisfied: pluggy==1.0.0 in /Library/Frameworks/Python.framework/Versions/3.10/lib/python3.10/site-packages (from -r namesake/requirements.txt (line 16)) (1.0.0)\n",
      "Requirement already satisfied: py==1.11.0 in /Library/Frameworks/Python.framework/Versions/3.10/lib/python3.10/site-packages (from -r namesake/requirements.txt (line 17)) (1.11.0)\n",
      "Requirement already satisfied: pyparsing==3.0.9 in /Library/Frameworks/Python.framework/Versions/3.10/lib/python3.10/site-packages (from -r namesake/requirements.txt (line 18)) (3.0.9)\n",
      "Collecting pytest==7.1.2\n",
      "  Using cached pytest-7.1.2-py3-none-any.whl (297 kB)\n",
      "Requirement already satisfied: python-dateutil==2.8.2 in /Users/chandrachudgowda/Library/Python/3.10/lib/python/site-packages (from -r namesake/requirements.txt (line 20)) (2.8.2)\n",
      "Requirement already satisfied: pytz==2022.1 in /Library/Frameworks/Python.framework/Versions/3.10/lib/python3.10/site-packages (from -r namesake/requirements.txt (line 21)) (2022.1)\n",
      "Requirement already satisfied: regex==2022.7.25 in /Library/Frameworks/Python.framework/Versions/3.10/lib/python3.10/site-packages (from -r namesake/requirements.txt (line 22)) (2022.7.25)\n",
      "Collecting scikit-learn==1.0.2\n",
      "  Using cached scikit_learn-1.0.2-cp310-cp310-macosx_12_0_arm64.whl (6.9 MB)\n",
      "Collecting scipy==1.7.3\n",
      "  Using cached scipy-1.7.3-1-cp310-cp310-macosx_12_0_arm64.whl (27.0 MB)\n",
      "Requirement already satisfied: six==1.16.0 in /Users/chandrachudgowda/Library/Python/3.10/lib/python/site-packages (from -r namesake/requirements.txt (line 25)) (1.16.0)\n",
      "Collecting sklearn==0.0\n",
      "  Using cached sklearn-0.0-py2.py3-none-any.whl\n",
      "Requirement already satisfied: spiral==1.1.0 in /Library/Frameworks/Python.framework/Versions/3.10/lib/python3.10/site-packages (from -r namesake/requirements.txt (line 27)) (1.1.0)\n",
      "Requirement already satisfied: termcolor==1.1.0 in /Library/Frameworks/Python.framework/Versions/3.10/lib/python3.10/site-packages (from -r namesake/requirements.txt (line 28)) (1.1.0)\n",
      "Requirement already satisfied: threadpoolctl==3.1.0 in /Library/Frameworks/Python.framework/Versions/3.10/lib/python3.10/site-packages (from -r namesake/requirements.txt (line 29)) (3.1.0)\n",
      "Requirement already satisfied: tomli==2.0.1 in /Library/Frameworks/Python.framework/Versions/3.10/lib/python3.10/site-packages (from -r namesake/requirements.txt (line 30)) (2.0.1)\n",
      "Requirement already satisfied: tqdm==4.64.0 in /Library/Frameworks/Python.framework/Versions/3.10/lib/python3.10/site-packages (from -r namesake/requirements.txt (line 31)) (4.64.0)\n",
      "Requirement already satisfied: typing-extensions==4.3.0 in /Library/Frameworks/Python.framework/Versions/3.10/lib/python3.10/site-packages (from -r namesake/requirements.txt (line 32)) (4.3.0)\n",
      "Requirement already satisfied: zipp==3.8.1 in /Library/Frameworks/Python.framework/Versions/3.10/lib/python3.10/site-packages (from -r namesake/requirements.txt (line 33)) (3.8.1)\n",
      "Requirement already satisfied: setuptools>=38.5.1 in /Library/Frameworks/Python.framework/Versions/3.10/lib/python3.10/site-packages (from spiral==1.1.0->-r namesake/requirements.txt (line 27)) (67.3.3)\n",
      "Installing collected packages: packaging, numpy, joblib, importlib-metadata, humanize, colorama, attrs, atomicwrites, scipy, pytest, pandas, nltk, scikit-learn, sklearn\n",
      "  Attempting uninstall: packaging\n",
      "    Found existing installation: packaging 23.0\n",
      "    Uninstalling packaging-23.0:\n",
      "      Successfully uninstalled packaging-23.0\n",
      "  Rolling back uninstall of packaging\n",
      "  Moving to /Users/chandrachudgowda/Library/Python/3.10/lib/python/site-packages/packaging-23.0.dist-info/\n",
      "   from /Users/chandrachudgowda/Library/Python/3.10/lib/python/site-packages/~ackaging-23.0.dist-info\n",
      "  Moving to /Users/chandrachudgowda/Library/Python/3.10/lib/python/site-packages/packaging/\n",
      "   from /Users/chandrachudgowda/Library/Python/3.10/lib/python/site-packages/~ackaging\n",
      "\u001b[31mERROR: Could not install packages due to an OSError: [Errno 13] Permission denied: '/Library/Frameworks/Python.framework/Versions/3.10/lib/python3.10/site-packages/packaging/__about__.py'\n",
      "Consider using the `--user` option or check the permissions.\n",
      "\u001b[0m\u001b[31m\n",
      "\u001b[0mNote: you may need to restart the kernel to use updated packages.\n"
     ]
    }
   ],
   "source": [
    "# Installing the requirements if not already installed\n",
    "\n",
    "%pip3 install --upgrade pip\n",
    "%pip3 install -r namesake/requirements.txt \n"
   ]
  },
  {
   "cell_type": "code",
   "execution_count": 3,
   "metadata": {},
   "outputs": [
    {
     "name": "stdout",
     "output_type": "stream",
     "text": [
      "Requirement already satisfied: setuptools in /Library/Frameworks/Python.framework/Versions/3.10/lib/python3.10/site-packages (67.4.0)\n",
      "Requirement already satisfied: wheel in /Library/Frameworks/Python.framework/Versions/3.10/lib/python3.10/site-packages (0.38.4)\n",
      "Note: you may need to restart the kernel to use updated packages.\n"
     ]
    }
   ],
   "source": [
    "# To run Namesake on the file test1.py\n",
    "%pip install --upgrade setuptools wheel"
   ]
  },
  {
   "cell_type": "code",
   "execution_count": 1,
   "metadata": {},
   "outputs": [],
   "source": [
    "# Crawling through numpy repository with the help of python_crawler.py\n",
    "import python_crawler\n",
    "\n",
    "path = \"Python Repositories\"\n",
    "\n",
    "# Creating an object of the PythonCrawler class\n",
    "crawler = python_crawler.PythonCrawler(path)\n",
    "\n",
    "crawler.aggregate_py_files_flask()"
   ]
  },
  {
   "cell_type": "code",
   "execution_count": 3,
   "metadata": {},
   "outputs": [
    {
     "name": "stdout",
     "output_type": "stream",
     "text": [
      "/Library/Frameworks/Python.framework/Versions/3.11/lib/python3.11/site-packages/fuzzywuzzy/fuzz.py:11: UserWarning: Using slow pure-python SequenceMatcher. Install python-Levenshtein to remove this warning\n",
      "  warnings.warn('Using slow pure-python SequenceMatcher. Install python-Levenshtein to remove this warning')\n",
      "[nltk_data] Downloading package wordnet to\n",
      "[nltk_data]     /Users/chandrachudgowda/nltk_data...\n",
      "[nltk_data]   Package wordnet is already up-to-date!\n",
      "\n",
      "\n",
      "orthographic similarity:\n",
      "\t[i] on line 6 and [j] on line 7 are 0.46 similar!\n",
      "\t[E] on line 10 and [F] on line 11 are 0.86 similar!\n",
      "\n",
      "phonological similarity:\n",
      "\t[write] on line 14 and [right] on line 15 are 1.00 similar!\n",
      "\t[file_E] on line 34 and [file_F] on line 35 are 0.86 similar!\n",
      "\n",
      "semantic similarity:\n",
      "\t[right] on line 15 and [left] on line 16 are 0.91 similar!\n",
      "\t[left] on line 16 and [result] on line 20 are 1.00 similar!\n",
      "\t[total] on line 18 and [number] on line 24 are 1.00 similar!\n",
      "\t[number] on line 24 and [count] on line 25 are 1.00 similar!\n",
      "\t[get_count] on line 32 and [get_number] on line 33 are 1.00 similar!\n",
      "\t[file_E] on line 34 and [file_F] on line 35 are 0.94 similar!\n",
      "\n",
      "Processing 31 identifiers, there are 10 warnings.\n"
     ]
    }
   ],
   "source": [
    "import ssl\n",
    "ssl._create_default_https_context = ssl._create_unverified_context\n",
    "\n",
    "# Running namesake on the file aggregate_py_files_numpy.py\n",
    "!python3 Namesake-main/namesake.py Namesake-main/test1.py"
   ]
  },
  {
   "cell_type": "code",
   "execution_count": 4,
   "metadata": {},
   "outputs": [
    {
     "name": "stdout",
     "output_type": "stream",
     "text": [
      "Number of lines of code: 2\n",
      "Number of tokens (words): 46\n"
     ]
    }
   ],
   "source": [
    "# Using the python2vec model we built and comparing the results\n",
    "\n",
    "# Importing the required libraries\n",
    "import pandas as pd\n",
    "import numpy as np\n",
    "import gensim\n",
    "import os\n",
    "import string\n",
    "from nltk.tokenize import RegexpTokenizer\n",
    "from nltk import sent_tokenize\n",
    "from gensim.utils import simple_preprocess\n",
    "\n",
    "code = []\n",
    "\n",
    "with open('Namesake-main/test1.py', 'r') as f:\n",
    "        corpus = f.read()\n",
    "        raw_sent = sent_tokenize(corpus)\n",
    "        for sent in raw_sent:\n",
    "            code.append(simple_preprocess(sent))\n",
    "\n",
    "# Printing the number of lines of code and the number of tokens (words) in the file\n",
    "print(f'Number of lines of code: {len(code)}')\n",
    "print(f'Number of tokens (words): {len([token for sent in code for token in sent])}')"
   ]
  },
  {
   "cell_type": "code",
   "execution_count": 5,
   "metadata": {},
   "outputs": [],
   "source": [
    "# Train your Gensim Word2Vec model with the tokenized lines of code\n",
    "model = gensim.models.Word2Vec(\n",
    "    window=10,\n",
    "    min_count=2\n",
    ")"
   ]
  },
  {
   "cell_type": "code",
   "execution_count": 6,
   "metadata": {},
   "outputs": [],
   "source": [
    "model.build_vocab(code)"
   ]
  },
  {
   "cell_type": "code",
   "execution_count": 7,
   "metadata": {},
   "outputs": [
    {
     "data": {
      "text/plain": [
       "(17, 230)"
      ]
     },
     "execution_count": 7,
     "metadata": {},
     "output_type": "execute_result"
    }
   ],
   "source": [
    "model.train(code, total_examples=model.corpus_count, epochs=model.epochs)"
   ]
  },
  {
   "cell_type": "code",
   "execution_count": 8,
   "metadata": {},
   "outputs": [],
   "source": [
    "# Deleting the old model if it exists\n",
    "if os.path.exists('python2vec_extension_2.model'):\n",
    "    os.remove('python2vec_extension_2.model')\n",
    "\n",
    "# Saving the model as python2vec.model\n",
    "\n",
    "model.save('python2vec_extension_2.model')"
   ]
  },
  {
   "cell_type": "code",
   "execution_count": 17,
   "metadata": {},
   "outputs": [
    {
     "name": "stdout",
     "output_type": "stream",
     "text": [
      "Similarity between write and right with Python2Vec model:  0.015004866\n",
      "\n",
      "Similarity between right and left with Python2Vec model:  0.044843625\n",
      "\n",
      "Similarity between left and result with Python2Vec model:  0.060677346\n",
      "\n"
     ]
    }
   ],
   "source": [
    "# Explore the trained model by examining the closest_words to some Python keywords like “for” and “if.”  Also explore the similarity of some popular identifier names like “math” and “numpy” in your notebook.\n",
    "\n",
    "print('Similarity between write and right with Python2Vec model: ', model.wv.similarity('write', 'right'))\n",
    "\n",
    "print()\n",
    "\n",
    "print('Similarity between right and left with Python2Vec model: ', model.wv.similarity('right', 'left'))\n",
    "\n",
    "print()\n",
    "\n",
    "print('Similarity between left and result with Python2Vec model: ', model.wv.similarity('left', 'result'))\n",
    "\n",
    "print()\n"
   ]
  }
 ],
 "metadata": {
  "kernelspec": {
   "display_name": "Python 3",
   "language": "python",
   "name": "python3"
  },
  "language_info": {
   "codemirror_mode": {
    "name": "ipython",
    "version": 3
   },
   "file_extension": ".py",
   "mimetype": "text/x-python",
   "name": "python",
   "nbconvert_exporter": "python",
   "pygments_lexer": "ipython3",
   "version": "3.10.8"
  },
  "orig_nbformat": 4,
  "vscode": {
   "interpreter": {
    "hash": "7e1998ff7f8aa20ada591c520b972326324e5ea05489af9e422744c7c09f6dad"
   }
  }
 },
 "nbformat": 4,
 "nbformat_minor": 2
}
